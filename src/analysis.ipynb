{
 "cells": [
  {
   "cell_type": "markdown",
   "metadata": {},
   "source": [
    "# Data 512, Homework 2"
   ]
  },
  {
   "cell_type": "markdown",
   "metadata": {},
   "source": [
    "This script runs all the code in this repository. All output is saved in the 'processed_data' folder. See the README for a full discription of what this code does."
   ]
  },
  {
   "cell_type": "markdown",
   "metadata": {},
   "source": [
    "Code for calling the APIs are based on [this example notebook](https://drive.google.com/file/d/1Z8DqXpHmNUJ3RD7e-OOwx2WYJPIYjUPp/view?usp=sharing) and [this example notebook](https://drive.google.com/file/d/1rZdBrtCe9XO4IkDWqm0A2RA-HfZCsqHh/view?usp=sharing)."
   ]
  },
  {
   "cell_type": "markdown",
   "metadata": {},
   "source": [
    "*Note: this code was last run on 10/13/2022, and the results may change if run at a later date*"
   ]
  },
  {
   "cell_type": "markdown",
   "metadata": {},
   "source": [
    "## Set Up"
   ]
  },
  {
   "cell_type": "markdown",
   "metadata": {},
   "source": [
    "### Preprocessing"
   ]
  },
  {
   "cell_type": "markdown",
   "metadata": {},
   "source": [
    "The file 'raw_data/politicians_by_country.csv' was downloaded from [this file](https://docs.google.com/spreadsheets/u/0/d/1Y4vSTYENgNE5KltqKZqnRQQBQZN5c8uKbSM4QTt8QGg/edit). The file 'raw_data/population_by_country.csv' was downloaded from [this file](https://docs.google.com/spreadsheets/u/0/d/1POuZDfA1sRooBq9e1RNukxyzHZZ-nQ2r6H5NcXhsMPU/edit). No changes were made besides renaming the file."
   ]
  },
  {
   "cell_type": "markdown",
   "metadata": {},
   "source": [
    "### Import Packages"
   ]
  },
  {
   "cell_type": "code",
   "execution_count": 1,
   "metadata": {},
   "outputs": [],
   "source": [
    "import json, time, urllib.parse\n",
    "import requests\n",
    "import pandas as pd\n",
    "import numpy as np"
   ]
  },
  {
   "cell_type": "markdown",
   "metadata": {},
   "source": [
    "### Set Constants"
   ]
  },
  {
   "cell_type": "markdown",
   "metadata": {},
   "source": [
    "*Constants are variables that will not be changed later in the script.*"
   ]
  },
  {
   "cell_type": "markdown",
   "metadata": {},
   "source": [
    "The basic English Wikipedia API endpoint"
   ]
  },
  {
   "cell_type": "code",
   "execution_count": 2,
   "metadata": {},
   "outputs": [],
   "source": [
    "API_ENWIKIPEDIA_ENDPOINT = \"https://en.wikipedia.org/w/api.php\""
   ]
  },
  {
   "cell_type": "markdown",
   "metadata": {},
   "source": [
    "Throttling for requests"
   ]
  },
  {
   "cell_type": "code",
   "execution_count": 3,
   "metadata": {},
   "outputs": [],
   "source": [
    "API_LATENCY_ASSUMED = 0.002       # Assuming roughly 2ms latency on the API and network\n",
    "API_THROTTLE_WAIT = (1.0/100.0)-API_LATENCY_ASSUMED"
   ]
  },
  {
   "cell_type": "markdown",
   "metadata": {},
   "source": [
    "Unique ID for requests  \n",
    "**NOTE: this should be replaced with your own email and usage information**"
   ]
  },
  {
   "cell_type": "code",
   "execution_count": 4,
   "metadata": {},
   "outputs": [],
   "source": [
    "REQUEST_HEADERS = {\n",
    "    'User-Agent': '<klein324@uw.edu>, University of Washington, MSDS DATA 512 - AUTUMN 2022',\n",
    "}"
   ]
  },
  {
   "cell_type": "markdown",
   "metadata": {},
   "source": [
    "Additional page properties that can be returned - see the [Info documentation](https://www.mediawiki.org/wiki/API:Info) for what can be included. This analysis does not need any additional properties, so an empty string is used instead."
   ]
  },
  {
   "cell_type": "code",
   "execution_count": 5,
   "metadata": {},
   "outputs": [],
   "source": [
    "#PAGEINFO_EXTENDED_PROPERTIES = \"talkid|url|watched|watchers\"\n",
    "PAGEINFO_EXTENDED_PROPERTIES = \"\""
   ]
  },
  {
   "cell_type": "markdown",
   "metadata": {},
   "source": [
    "Template with basic parameters for making a PageInfo request"
   ]
  },
  {
   "cell_type": "code",
   "execution_count": 6,
   "metadata": {},
   "outputs": [],
   "source": [
    "PAGEINFO_PARAMS_TEMPLATE = {\n",
    "    \"action\": \"query\",\n",
    "    \"format\": \"json\",\n",
    "    \"titles\": \"\",           # to simplify this should be a single page title at a time\n",
    "    \"prop\": \"info\",\n",
    "    \"inprop\": PAGEINFO_EXTENDED_PROPERTIES\n",
    "}"
   ]
  },
  {
   "cell_type": "markdown",
   "metadata": {},
   "source": [
    "The current ORES API endpoint"
   ]
  },
  {
   "cell_type": "code",
   "execution_count": 7,
   "metadata": {},
   "outputs": [],
   "source": [
    "API_ORES_SCORE_ENDPOINT = \"https://ores.wikimedia.org/v3\""
   ]
  },
  {
   "cell_type": "markdown",
   "metadata": {},
   "source": [
    "Template for mapping to the ORES URL"
   ]
  },
  {
   "cell_type": "code",
   "execution_count": 8,
   "metadata": {},
   "outputs": [],
   "source": [
    "API_ORES_SCORE_PARAMS = \"/scores/{context}/{revid}/{model}\""
   ]
  },
  {
   "cell_type": "markdown",
   "metadata": {},
   "source": [
    "Template with basic parameters for making an ORES request"
   ]
  },
  {
   "cell_type": "code",
   "execution_count": 9,
   "metadata": {},
   "outputs": [],
   "source": [
    "ORES_PARAMS_TEMPLATE = {\n",
    "    \"context\": \"enwiki\",        # which WMF project for the specified revid\n",
    "    \"revid\" : \"\",               # the revision to be scored - this will probably change each call\n",
    "    \"model\": \"articlequality\"   # the AI/ML scoring model to apply to the reviewion\n",
    "}"
   ]
  },
  {
   "cell_type": "markdown",
   "metadata": {},
   "source": [
    "## Functions"
   ]
  },
  {
   "cell_type": "markdown",
   "metadata": {},
   "source": [
    "### Function to request PageInfo for 1 article"
   ]
  },
  {
   "cell_type": "markdown",
   "metadata": {},
   "source": [
    "This function takes inputs of all the information needed to access the PageInfo API and outputs the json response unmodified."
   ]
  },
  {
   "cell_type": "markdown",
   "metadata": {},
   "source": [
    "Inputs:\n",
    "- article_title: the title of a Wikipedia article\n",
    "- endpoint_url: the MediaWiki API URL\n",
    "- request_template: a template with the parameter values for the request\n",
    "- headers: a unique ID for the request"
   ]
  },
  {
   "cell_type": "markdown",
   "metadata": {},
   "source": [
    "Output:\n",
    "- a json response or None if an exception is thrown"
   ]
  },
  {
   "cell_type": "code",
   "execution_count": 10,
   "metadata": {},
   "outputs": [],
   "source": [
    "def request_pageinfo_per_article(article_title = None, \n",
    "                                 endpoint_url = API_ENWIKIPEDIA_ENDPOINT, \n",
    "                                 request_template = PAGEINFO_PARAMS_TEMPLATE,\n",
    "                                 headers = REQUEST_HEADERS):\n",
    "    # Make sure we have an article title\n",
    "    if not article_title: return None\n",
    "    \n",
    "    request_template['titles'] = article_title\n",
    "        \n",
    "    # make the request\n",
    "    try:\n",
    "        # we'll wait first, to make sure we don't exceed the limit in the situation where an exception\n",
    "        # occurs during the request processing - throttling is always a good practice with a free\n",
    "        # data source like Wikipedia - or any other community sources\n",
    "        if API_THROTTLE_WAIT > 0.0:\n",
    "            time.sleep(API_THROTTLE_WAIT)\n",
    "        response = requests.get(endpoint_url, headers=headers, params=request_template)\n",
    "        json_response = response.json()\n",
    "    except Exception as e:\n",
    "        print(e)\n",
    "        json_response = None\n",
    "    return json_response"
   ]
  },
  {
   "cell_type": "markdown",
   "metadata": {},
   "source": [
    "### Function to request ORES score for 1 article"
   ]
  },
  {
   "cell_type": "markdown",
   "metadata": {},
   "source": [
    "This function takes inputs of all the information needed to access the PageInfo API and outputs the json response unmodified."
   ]
  },
  {
   "cell_type": "markdown",
   "metadata": {},
   "source": [
    "Inputs:\n",
    "- article_revid: the revision ID for the version of a Wikipedia article\n",
    "- endpoint_url: the ORES API URL\n",
    "- endpoint_params: a parameterized string for mapping the request template to the ORES URL\n",
    "- request_template: a template with the parameter values for the request\n",
    "- headers: a unique ID for the request\n",
    "- features: additional features to add to the request URL"
   ]
  },
  {
   "cell_type": "markdown",
   "metadata": {},
   "source": [
    "Output:\n",
    "- a json response or None if an exception is thrown"
   ]
  },
  {
   "cell_type": "code",
   "execution_count": 11,
   "metadata": {},
   "outputs": [],
   "source": [
    "def request_ores_score_per_article(article_revid = None, \n",
    "                                   endpoint_url = API_ORES_SCORE_ENDPOINT, \n",
    "                                   endpoint_params = API_ORES_SCORE_PARAMS, \n",
    "                                   request_template = ORES_PARAMS_TEMPLATE,\n",
    "                                   headers = REQUEST_HEADERS,\n",
    "                                   features=False):\n",
    "    # Make sure we have an article revision id\n",
    "    if not article_revid: return None\n",
    "    \n",
    "    # set the revision id into the template\n",
    "    request_template['revid'] = article_revid\n",
    "    \n",
    "    # now, create a request URL by combining the endpoint_url with the parameters for the request\n",
    "    request_url = endpoint_url+endpoint_params.format(**request_template)\n",
    "    \n",
    "    # the features used by the ML model can sometimes be returned as well as scores\n",
    "    if features:\n",
    "        request_url = request_url+\"?features=true\"\n",
    "    \n",
    "    # make the request\n",
    "    try:\n",
    "        # we'll wait first, to make sure we don't exceed the limit in the situation where an exception\n",
    "        # occurs during the request processing - throttling is always a good practice with a free\n",
    "        # data source like ORES - or other community sources\n",
    "        if API_THROTTLE_WAIT > 0.0:\n",
    "            time.sleep(API_THROTTLE_WAIT)\n",
    "        response = requests.get(request_url, headers=headers)\n",
    "        json_response = response.json()\n",
    "    except Exception as e:\n",
    "        print(e)\n",
    "        json_response = None\n",
    "    return json_response"
   ]
  },
  {
   "cell_type": "markdown",
   "metadata": {},
   "source": [
    "### Function to take a dataset and population to return article coverage"
   ]
  },
  {
   "cell_type": "markdown",
   "metadata": {},
   "source": [
    "This function takes a dataset of articles as well as a population dataset and returns the coverage of articles for a specific country or region."
   ]
  },
  {
   "cell_type": "markdown",
   "metadata": {},
   "source": [
    "Inputs:\n",
    "- data: a dataset of articles\n",
    "    - article title should be in a column called 'name'\n",
    "    - dataset should also include a column with the region or country\n",
    "    - the dataset should be filtered to a specific region or country\n",
    "- pop_df: a dataset of population counts in millions\n",
    "    - region/country should be in a column called 'Geography'\n",
    "    - the region/country the dataset in the first parameter is filtered to should be included in this dataset\n",
    "- column: a string specifying the column name the region or country name is in\n",
    "    - default is 'country'"
   ]
  },
  {
   "cell_type": "markdown",
   "metadata": {},
   "source": [
    "Output:\n",
    "- numeric value that is the ratio of articles to population aka article number per capita OR NaN if population is 0"
   ]
  },
  {
   "cell_type": "code",
   "execution_count": 12,
   "metadata": {},
   "outputs": [],
   "source": [
    "def country_region_ratio(data, pop_df, column=\"country\"):\n",
    "    country_region = data[column].iloc[0]\n",
    "    num_articles = data['name'].count()\n",
    "    population = pop_df[pop_df['Geography']==country_region]['Population (millions)'].iloc[0]*1000000\n",
    "    if population == 0:\n",
    "        return(np.nan)\n",
    "    ratio = num_articles/population\n",
    "    return(ratio)"
   ]
  },
  {
   "cell_type": "markdown",
   "metadata": {},
   "source": [
    "## Retrieve and Process Data"
   ]
  },
  {
   "cell_type": "markdown",
   "metadata": {},
   "source": [
    "### Load Input Files "
   ]
  },
  {
   "cell_type": "code",
   "execution_count": 13,
   "metadata": {},
   "outputs": [],
   "source": [
    "politicians = pd.read_csv('../raw_data/politicians_by_country.csv')\n",
    "population = pd.read_csv('../raw_data/population_by_country.csv')"
   ]
  },
  {
   "cell_type": "markdown",
   "metadata": {},
   "source": [
    "### Add 'Korea' as Country"
   ]
  },
  {
   "cell_type": "markdown",
   "metadata": {},
   "source": [
    "Change 'Korean' to 'Korea' in politicians dataset"
   ]
  },
  {
   "cell_type": "code",
   "execution_count": 14,
   "metadata": {},
   "outputs": [],
   "source": [
    "politicians['country'] = ['Korea' if x=='Korean' else x for x in politicians['country']]"
   ]
  },
  {
   "cell_type": "markdown",
   "metadata": {},
   "source": [
    "Add 'Korea' to population dataset - population is sum of North and South Korea"
   ]
  },
  {
   "cell_type": "code",
   "execution_count": 15,
   "metadata": {},
   "outputs": [],
   "source": [
    "# filter to North and South Korea\n",
    "korea_filt = population[population['Geography'].str.contains('Korea')]\n",
    "# find the index to put the new row at\n",
    "idx = max(korea_filt.index) + 1\n",
    "# calculate the population for Korea\n",
    "pop = sum(korea_filt[\"Population (millions)\"])\n",
    "# create the new row\n",
    "korea = pd.DataFrame({\"Geography\": 'Korea', \"Population (millions)\": pop}, index=[idx])\n",
    "# insert the new row at the correct index\n",
    "population = pd.concat([population.iloc[:idx], korea, population.iloc[idx:]]).reset_index(drop=True)"
   ]
  },
  {
   "cell_type": "markdown",
   "metadata": {},
   "source": [
    "### Get Article Revision ID and Quality Prediction"
   ]
  },
  {
   "cell_type": "markdown",
   "metadata": {},
   "source": [
    "- This iterates through the politicians and gets the most recent revision ID and add it to the politicians dataframe.\n",
    "    - If this throws an error, the index is added to an array.\n",
    "- It then uses the revision ID to get the prediction of article quality and add it to the politicians dataframe.\n",
    "    - If this throws an error, the index is added to an array.\n",
    "- This takes about an hour. The number of seconds the process takes is printed after the code completes."
   ]
  },
  {
   "cell_type": "code",
   "execution_count": 16,
   "metadata": {},
   "outputs": [
    {
     "name": "stdout",
     "output_type": "stream",
     "text": [
      "2974.440201997757\n"
     ]
    }
   ],
   "source": [
    "start = time.time()\n",
    "# create columns for revision ID and predicition of article quality\n",
    "politicians['revision_id'] = None\n",
    "politicians['article_quality'] = None\n",
    "# create arrays to store articles that throw errors\n",
    "error_rid = []\n",
    "error_qlt = []\n",
    "# itterate through politicians\n",
    "for index, row in politicians.iterrows():\n",
    "    try:\n",
    "        # get most recent revision ID and add to the dataframe\n",
    "        info = request_pageinfo_per_article(row[\"name\"])\n",
    "        rid = [c['lastrevid'] for c in info[\"query\"][\"pages\"].values()][0]\n",
    "        politicians.iloc[index]['revision_id'] = rid\n",
    "        try:\n",
    "            # get ORES score and add to the dataframe\n",
    "            score = request_ores_score_per_article(rid)\n",
    "            prediction = score[\"enwiki\"][\"scores\"][str(rid)][\"articlequality\"][\"score\"][\"prediction\"]\n",
    "            politicians.iloc[index]['article_quality'] = prediction\n",
    "        except:\n",
    "            # add articles able to get revision ID but not ORES score to array\n",
    "            error_qlt.append(index)\n",
    "    except:\n",
    "        # add articles unable to get revision ID to array\n",
    "        error_rid.append(index)\n",
    "print(time.time()-start)"
   ]
  },
  {
   "cell_type": "markdown",
   "metadata": {},
   "source": [
    "The following articles were unable to get a revision ID"
   ]
  },
  {
   "cell_type": "code",
   "execution_count": 17,
   "metadata": {},
   "outputs": [
    {
     "data": {
      "text/html": [
       "<div>\n",
       "<style scoped>\n",
       "    .dataframe tbody tr th:only-of-type {\n",
       "        vertical-align: middle;\n",
       "    }\n",
       "\n",
       "    .dataframe tbody tr th {\n",
       "        vertical-align: top;\n",
       "    }\n",
       "\n",
       "    .dataframe thead th {\n",
       "        text-align: right;\n",
       "    }\n",
       "</style>\n",
       "<table border=\"1\" class=\"dataframe\">\n",
       "  <thead>\n",
       "    <tr style=\"text-align: right;\">\n",
       "      <th></th>\n",
       "      <th>name</th>\n",
       "      <th>url</th>\n",
       "      <th>country</th>\n",
       "      <th>revision_id</th>\n",
       "      <th>article_quality</th>\n",
       "    </tr>\n",
       "  </thead>\n",
       "  <tbody>\n",
       "    <tr>\n",
       "      <th>2446</th>\n",
       "      <td>Prince Ofosu Sefah</td>\n",
       "      <td>https://en.wikipedia.org/wiki/Prince_Ofosu_Sefah</td>\n",
       "      <td>Ghana</td>\n",
       "      <td>None</td>\n",
       "      <td>None</td>\n",
       "    </tr>\n",
       "    <tr>\n",
       "      <th>2985</th>\n",
       "      <td>Harjit Kaur Talwandi</td>\n",
       "      <td>https://en.wikipedia.org/wiki/Harjit_Kaur_Talw...</td>\n",
       "      <td>India</td>\n",
       "      <td>None</td>\n",
       "      <td>None</td>\n",
       "    </tr>\n",
       "    <tr>\n",
       "      <th>3212</th>\n",
       "      <td>Abd al-Razzaq al-Hasani</td>\n",
       "      <td>https://en.wikipedia.org/wiki/'Abd_al-Razzaq_a...</td>\n",
       "      <td>Iraq</td>\n",
       "      <td>None</td>\n",
       "      <td>None</td>\n",
       "    </tr>\n",
       "    <tr>\n",
       "      <th>4865</th>\n",
       "      <td>Abiodun Abimbola Orekoya</td>\n",
       "      <td>https://en.wikipedia.org/wiki/Abiodun_Abimbola...</td>\n",
       "      <td>Nigeria</td>\n",
       "      <td>None</td>\n",
       "      <td>None</td>\n",
       "    </tr>\n",
       "    <tr>\n",
       "      <th>4879</th>\n",
       "      <td>Segun “Aeroland” Adewale</td>\n",
       "      <td>https://en.wikipedia.org/wiki/Segun_”Aeroland”...</td>\n",
       "      <td>Nigeria</td>\n",
       "      <td>None</td>\n",
       "      <td>None</td>\n",
       "    </tr>\n",
       "    <tr>\n",
       "      <th>5801</th>\n",
       "      <td>Roman Konoplev</td>\n",
       "      <td>https://en.wikipedia.org/wiki/Roman_Konoplev</td>\n",
       "      <td>Russia</td>\n",
       "      <td>None</td>\n",
       "      <td>None</td>\n",
       "    </tr>\n",
       "    <tr>\n",
       "      <th>6344</th>\n",
       "      <td>Nhlanhla “Lux” Dlamini</td>\n",
       "      <td>https://en.wikipedia.org/wiki/Nhlanhla_”Lux”_D...</td>\n",
       "      <td>South Africa</td>\n",
       "      <td>None</td>\n",
       "      <td>None</td>\n",
       "    </tr>\n",
       "  </tbody>\n",
       "</table>\n",
       "</div>"
      ],
      "text/plain": [
       "                          name  \\\n",
       "2446        Prince Ofosu Sefah   \n",
       "2985      Harjit Kaur Talwandi   \n",
       "3212   Abd al-Razzaq al-Hasani   \n",
       "4865  Abiodun Abimbola Orekoya   \n",
       "4879  Segun “Aeroland” Adewale   \n",
       "5801            Roman Konoplev   \n",
       "6344    Nhlanhla “Lux” Dlamini   \n",
       "\n",
       "                                                    url       country  \\\n",
       "2446   https://en.wikipedia.org/wiki/Prince_Ofosu_Sefah         Ghana   \n",
       "2985  https://en.wikipedia.org/wiki/Harjit_Kaur_Talw...         India   \n",
       "3212  https://en.wikipedia.org/wiki/'Abd_al-Razzaq_a...          Iraq   \n",
       "4865  https://en.wikipedia.org/wiki/Abiodun_Abimbola...       Nigeria   \n",
       "4879  https://en.wikipedia.org/wiki/Segun_”Aeroland”...       Nigeria   \n",
       "5801       https://en.wikipedia.org/wiki/Roman_Konoplev        Russia   \n",
       "6344  https://en.wikipedia.org/wiki/Nhlanhla_”Lux”_D...  South Africa   \n",
       "\n",
       "     revision_id article_quality  \n",
       "2446        None            None  \n",
       "2985        None            None  \n",
       "3212        None            None  \n",
       "4865        None            None  \n",
       "4879        None            None  \n",
       "5801        None            None  \n",
       "6344        None            None  "
      ]
     },
     "execution_count": 17,
     "metadata": {},
     "output_type": "execute_result"
    }
   ],
   "source": [
    "politicians.loc[error_rid]"
   ]
  },
  {
   "cell_type": "markdown",
   "metadata": {},
   "source": [
    "The following articles were able to get a revision ID, but unable to get an ORES score"
   ]
  },
  {
   "cell_type": "code",
   "execution_count": 18,
   "metadata": {},
   "outputs": [
    {
     "data": {
      "text/html": [
       "<div>\n",
       "<style scoped>\n",
       "    .dataframe tbody tr th:only-of-type {\n",
       "        vertical-align: middle;\n",
       "    }\n",
       "\n",
       "    .dataframe tbody tr th {\n",
       "        vertical-align: top;\n",
       "    }\n",
       "\n",
       "    .dataframe thead th {\n",
       "        text-align: right;\n",
       "    }\n",
       "</style>\n",
       "<table border=\"1\" class=\"dataframe\">\n",
       "  <thead>\n",
       "    <tr style=\"text-align: right;\">\n",
       "      <th></th>\n",
       "      <th>name</th>\n",
       "      <th>url</th>\n",
       "      <th>country</th>\n",
       "      <th>revision_id</th>\n",
       "      <th>article_quality</th>\n",
       "    </tr>\n",
       "  </thead>\n",
       "  <tbody>\n",
       "  </tbody>\n",
       "</table>\n",
       "</div>"
      ],
      "text/plain": [
       "Empty DataFrame\n",
       "Columns: [name, url, country, revision_id, article_quality]\n",
       "Index: []"
      ]
     },
     "execution_count": 18,
     "metadata": {},
     "output_type": "execute_result"
    }
   ],
   "source": [
    "politicians.loc[error_qlt]"
   ]
  },
  {
   "cell_type": "markdown",
   "metadata": {},
   "source": [
    "### Combine with Population"
   ]
  },
  {
   "cell_type": "markdown",
   "metadata": {},
   "source": [
    "add 'region' column to population dataframe\n",
    "- if the region/country name is all caps, it is a region and set the value to the region name\n",
    "- otherwise, it is a country and set the value to None"
   ]
  },
  {
   "cell_type": "code",
   "execution_count": 19,
   "metadata": {},
   "outputs": [],
   "source": [
    "population['region'] = [x if x.isupper() else None for x in population['Geography']]"
   ]
  },
  {
   "cell_type": "markdown",
   "metadata": {},
   "source": [
    "Fill any rows with 'None' in region column to the closest previous row's region that is nont 'None'"
   ]
  },
  {
   "cell_type": "code",
   "execution_count": 20,
   "metadata": {},
   "outputs": [],
   "source": [
    "population['region'] = population['region'].ffill()"
   ]
  },
  {
   "cell_type": "markdown",
   "metadata": {},
   "source": [
    "Merge the politicians and population dataframes on country"
   ]
  },
  {
   "cell_type": "code",
   "execution_count": 21,
   "metadata": {},
   "outputs": [],
   "source": [
    "pol_pop = politicians.merge(population, left_on=\"country\", right_on=\"Geography\")"
   ]
  },
  {
   "cell_type": "markdown",
   "metadata": {},
   "source": [
    "Select relevent columns"
   ]
  },
  {
   "cell_type": "code",
   "execution_count": 22,
   "metadata": {},
   "outputs": [],
   "source": [
    "pol_pop = pol_pop.loc[:, ['country', 'region', 'Population (millions)', 'name', 'revision_id', 'article_quality']]"
   ]
  },
  {
   "cell_type": "markdown",
   "metadata": {},
   "source": [
    "Save data to 'processed_data' folder"
   ]
  },
  {
   "cell_type": "code",
   "execution_count": 23,
   "metadata": {},
   "outputs": [],
   "source": [
    "pol_pop.to_csv('../processed_data/wp_politicians_by_country.csv', index=False)"
   ]
  },
  {
   "cell_type": "markdown",
   "metadata": {},
   "source": [
    "### Find Non-Matching Countries"
   ]
  },
  {
   "cell_type": "markdown",
   "metadata": {},
   "source": [
    "Get the set of unique countries in politicians dataset"
   ]
  },
  {
   "cell_type": "code",
   "execution_count": 24,
   "metadata": {},
   "outputs": [],
   "source": [
    "pol_set = set(politicians.country)"
   ]
  },
  {
   "cell_type": "markdown",
   "metadata": {},
   "source": [
    "Get the set of unique countries in population dataset - remove regions before getting set"
   ]
  },
  {
   "cell_type": "code",
   "execution_count": 25,
   "metadata": {},
   "outputs": [],
   "source": [
    "pop_set = set(population[~population['Geography'].str.isupper()].Geography)"
   ]
  },
  {
   "cell_type": "markdown",
   "metadata": {},
   "source": [
    "Get the countries in the politicians set but not the population set"
   ]
  },
  {
   "cell_type": "code",
   "execution_count": 26,
   "metadata": {},
   "outputs": [],
   "source": [
    "only_pol = pol_set.difference(pop_set)"
   ]
  },
  {
   "cell_type": "markdown",
   "metadata": {},
   "source": [
    "Get the countries in the population set but not the politicians set"
   ]
  },
  {
   "cell_type": "code",
   "execution_count": 27,
   "metadata": {},
   "outputs": [],
   "source": [
    "only_pop = pop_set.difference(pol_set)"
   ]
  },
  {
   "cell_type": "markdown",
   "metadata": {},
   "source": [
    "Combine the two sets to get a full list of what countries are not in both datasets"
   ]
  },
  {
   "cell_type": "code",
   "execution_count": 28,
   "metadata": {},
   "outputs": [],
   "source": [
    "no_match = only_pol.union(only_pop)"
   ]
  },
  {
   "cell_type": "markdown",
   "metadata": {},
   "source": [
    "Save this list to a txt file in the 'processed_data' folder"
   ]
  },
  {
   "cell_type": "code",
   "execution_count": 29,
   "metadata": {},
   "outputs": [],
   "source": [
    "with open('../processed_data/wp_countries-no_match.txt', 'w') as f:\n",
    "    for country in no_match:\n",
    "        f.write(country + \"\\n\")"
   ]
  },
  {
   "cell_type": "markdown",
   "metadata": {},
   "source": [
    "## Analysis"
   ]
  },
  {
   "cell_type": "markdown",
   "metadata": {},
   "source": [
    "If you do not want to run the 'Retrieve and Process Data' section yourself, the only code you need to run before this 'Analysis' section is the following:\n",
    "- [Import Packages](#Import-Packages) at the top of the script\n",
    "- the [last function cell](#Function-to-take-a-dataset-and-population-to-return-article-coverage)\n",
    "- the cell below - just remove the '#' in order to run the code"
   ]
  },
  {
   "cell_type": "code",
   "execution_count": 30,
   "metadata": {},
   "outputs": [],
   "source": [
    "#pol_pop = pd.read_csv('../processed_data/wp_politicians_by_country.csv')\n",
    "#population = pd.read_csv('../raw_data/population_by_country.csv')"
   ]
  },
  {
   "cell_type": "markdown",
   "metadata": {},
   "source": [
    "### Calculate Ratios"
   ]
  },
  {
   "cell_type": "markdown",
   "metadata": {},
   "source": [
    "For each country, calculate the ratio of all articles to population"
   ]
  },
  {
   "cell_type": "code",
   "execution_count": 31,
   "metadata": {},
   "outputs": [],
   "source": [
    "country_articles = pol_pop.groupby(['country']).apply(lambda x: country_region_ratio(x, population))"
   ]
  },
  {
   "cell_type": "markdown",
   "metadata": {},
   "source": [
    "For each region, calculate the ratio of all articles to population"
   ]
  },
  {
   "cell_type": "code",
   "execution_count": 32,
   "metadata": {},
   "outputs": [],
   "source": [
    "region_articles = pol_pop.groupby(['region']).apply(lambda x: country_region_ratio(x, population, column=\"region\"))"
   ]
  },
  {
   "cell_type": "markdown",
   "metadata": {},
   "source": [
    "For each country, calculate the ratio of high quality articles (featured article or good article) to population"
   ]
  },
  {
   "cell_type": "code",
   "execution_count": 33,
   "metadata": {},
   "outputs": [],
   "source": [
    "country_quality = pol_pop[pol_pop['article_quality'].isin(['FA', 'GA'])].groupby(['country']).apply(lambda x: country_region_ratio(x, population))"
   ]
  },
  {
   "cell_type": "markdown",
   "metadata": {},
   "source": [
    "For each region, calculate the ratio of high quality articles (featured article or good article) to population"
   ]
  },
  {
   "cell_type": "code",
   "execution_count": 34,
   "metadata": {},
   "outputs": [],
   "source": [
    "region_quality = pol_pop[pol_pop['article_quality'].isin(['FA', 'GA'])].groupby(['region']).apply(lambda x: country_region_ratio(x, population, column=\"region\"))"
   ]
  },
  {
   "cell_type": "markdown",
   "metadata": {},
   "source": [
    "### Create Tables"
   ]
  },
  {
   "cell_type": "markdown",
   "metadata": {},
   "source": [
    "Top 10 countries by coverage: The 10 countries with the highest total articles per capita (in descending order)"
   ]
  },
  {
   "cell_type": "code",
   "execution_count": 35,
   "metadata": {},
   "outputs": [
    {
     "data": {
      "text/html": [
       "<style  type=\"text/css\" >\n",
       "</style><table id=\"T_d87aebd9_4b5e_11ed_9b6c_f8ac65df8b61\" ><thead>    <tr>        <th class=\"col_heading level0 col0\" >country</th>        <th class=\"col_heading level0 col1\" >articles per capita</th>    </tr></thead><tbody>\n",
       "                <tr>\n",
       "                                <td id=\"T_d87aebd9_4b5e_11ed_9b6c_f8ac65df8b61row0_col0\" class=\"data row0 col0\" >Antigua and Barbuda</td>\n",
       "                        <td id=\"T_d87aebd9_4b5e_11ed_9b6c_f8ac65df8b61row0_col1\" class=\"data row0 col1\" >0.000170</td>\n",
       "            </tr>\n",
       "            <tr>\n",
       "                                <td id=\"T_d87aebd9_4b5e_11ed_9b6c_f8ac65df8b61row1_col0\" class=\"data row1 col0\" >Federated States of Micronesia</td>\n",
       "                        <td id=\"T_d87aebd9_4b5e_11ed_9b6c_f8ac65df8b61row1_col1\" class=\"data row1 col1\" >0.000130</td>\n",
       "            </tr>\n",
       "            <tr>\n",
       "                                <td id=\"T_d87aebd9_4b5e_11ed_9b6c_f8ac65df8b61row2_col0\" class=\"data row2 col0\" >Andorra</td>\n",
       "                        <td id=\"T_d87aebd9_4b5e_11ed_9b6c_f8ac65df8b61row2_col1\" class=\"data row2 col1\" >0.000100</td>\n",
       "            </tr>\n",
       "            <tr>\n",
       "                                <td id=\"T_d87aebd9_4b5e_11ed_9b6c_f8ac65df8b61row3_col0\" class=\"data row3 col0\" >Barbados</td>\n",
       "                        <td id=\"T_d87aebd9_4b5e_11ed_9b6c_f8ac65df8b61row3_col1\" class=\"data row3 col1\" >0.000093</td>\n",
       "            </tr>\n",
       "            <tr>\n",
       "                                <td id=\"T_d87aebd9_4b5e_11ed_9b6c_f8ac65df8b61row4_col0\" class=\"data row4 col0\" >Marshall Islands</td>\n",
       "                        <td id=\"T_d87aebd9_4b5e_11ed_9b6c_f8ac65df8b61row4_col1\" class=\"data row4 col1\" >0.000090</td>\n",
       "            </tr>\n",
       "            <tr>\n",
       "                                <td id=\"T_d87aebd9_4b5e_11ed_9b6c_f8ac65df8b61row5_col0\" class=\"data row5 col0\" >Montenegro</td>\n",
       "                        <td id=\"T_d87aebd9_4b5e_11ed_9b6c_f8ac65df8b61row5_col1\" class=\"data row5 col1\" >0.000060</td>\n",
       "            </tr>\n",
       "            <tr>\n",
       "                                <td id=\"T_d87aebd9_4b5e_11ed_9b6c_f8ac65df8b61row6_col0\" class=\"data row6 col0\" >Seychelles</td>\n",
       "                        <td id=\"T_d87aebd9_4b5e_11ed_9b6c_f8ac65df8b61row6_col1\" class=\"data row6 col1\" >0.000060</td>\n",
       "            </tr>\n",
       "            <tr>\n",
       "                                <td id=\"T_d87aebd9_4b5e_11ed_9b6c_f8ac65df8b61row7_col0\" class=\"data row7 col0\" >Luxembourg</td>\n",
       "                        <td id=\"T_d87aebd9_4b5e_11ed_9b6c_f8ac65df8b61row7_col1\" class=\"data row7 col1\" >0.000053</td>\n",
       "            </tr>\n",
       "            <tr>\n",
       "                                <td id=\"T_d87aebd9_4b5e_11ed_9b6c_f8ac65df8b61row8_col0\" class=\"data row8 col0\" >Bhutan</td>\n",
       "                        <td id=\"T_d87aebd9_4b5e_11ed_9b6c_f8ac65df8b61row8_col1\" class=\"data row8 col1\" >0.000051</td>\n",
       "            </tr>\n",
       "            <tr>\n",
       "                                <td id=\"T_d87aebd9_4b5e_11ed_9b6c_f8ac65df8b61row9_col0\" class=\"data row9 col0\" >Grenada</td>\n",
       "                        <td id=\"T_d87aebd9_4b5e_11ed_9b6c_f8ac65df8b61row9_col1\" class=\"data row9 col1\" >0.000050</td>\n",
       "            </tr>\n",
       "    </tbody></table>"
      ],
      "text/plain": [
       "<pandas.io.formats.style.Styler at 0x22e4fd86130>"
      ]
     },
     "execution_count": 35,
     "metadata": {},
     "output_type": "execute_result"
    }
   ],
   "source": [
    "pd.set_option('precision', 6)\n",
    "country_articles.sort_values(ascending=False).head(10).to_frame(name='articles per capita').reset_index().style.hide_index()"
   ]
  },
  {
   "cell_type": "markdown",
   "metadata": {},
   "source": [
    "Bottom 10 countries by coverage: The 10 countries with the lowest total articles per capita (in ascending order)"
   ]
  },
  {
   "cell_type": "code",
   "execution_count": 36,
   "metadata": {},
   "outputs": [
    {
     "data": {
      "text/html": [
       "<style  type=\"text/css\" >\n",
       "</style><table id=\"T_d882a55e_4b5e_11ed_bacb_f8ac65df8b61\" ><thead>    <tr>        <th class=\"col_heading level0 col0\" >country</th>        <th class=\"col_heading level0 col1\" >articles per capita</th>    </tr></thead><tbody>\n",
       "                <tr>\n",
       "                                <td id=\"T_d882a55e_4b5e_11ed_bacb_f8ac65df8b61row0_col0\" class=\"data row0 col0\" >China</td>\n",
       "                        <td id=\"T_d882a55e_4b5e_11ed_bacb_f8ac65df8b61row0_col1\" class=\"data row0 col1\" >0.0000000014</td>\n",
       "            </tr>\n",
       "            <tr>\n",
       "                                <td id=\"T_d882a55e_4b5e_11ed_bacb_f8ac65df8b61row1_col0\" class=\"data row1 col0\" >Mexico</td>\n",
       "                        <td id=\"T_d882a55e_4b5e_11ed_bacb_f8ac65df8b61row1_col1\" class=\"data row1 col1\" >0.0000000078</td>\n",
       "            </tr>\n",
       "            <tr>\n",
       "                                <td id=\"T_d882a55e_4b5e_11ed_bacb_f8ac65df8b61row2_col0\" class=\"data row2 col0\" >Saudi Arabia</td>\n",
       "                        <td id=\"T_d882a55e_4b5e_11ed_bacb_f8ac65df8b61row2_col1\" class=\"data row2 col1\" >0.0000000817</td>\n",
       "            </tr>\n",
       "            <tr>\n",
       "                                <td id=\"T_d882a55e_4b5e_11ed_bacb_f8ac65df8b61row3_col0\" class=\"data row3 col0\" >Romania</td>\n",
       "                        <td id=\"T_d882a55e_4b5e_11ed_bacb_f8ac65df8b61row3_col1\" class=\"data row3 col1\" >0.0000001053</td>\n",
       "            </tr>\n",
       "            <tr>\n",
       "                                <td id=\"T_d882a55e_4b5e_11ed_bacb_f8ac65df8b61row4_col0\" class=\"data row4 col0\" >India</td>\n",
       "                        <td id=\"T_d882a55e_4b5e_11ed_bacb_f8ac65df8b61row4_col1\" class=\"data row4 col1\" >0.0000001263</td>\n",
       "            </tr>\n",
       "            <tr>\n",
       "                                <td id=\"T_d882a55e_4b5e_11ed_bacb_f8ac65df8b61row5_col0\" class=\"data row5 col0\" >Sri Lanka</td>\n",
       "                        <td id=\"T_d882a55e_4b5e_11ed_bacb_f8ac65df8b61row5_col1\" class=\"data row5 col1\" >0.0000001339</td>\n",
       "            </tr>\n",
       "            <tr>\n",
       "                                <td id=\"T_d882a55e_4b5e_11ed_bacb_f8ac65df8b61row6_col0\" class=\"data row6 col0\" >Egypt</td>\n",
       "                        <td id=\"T_d882a55e_4b5e_11ed_bacb_f8ac65df8b61row6_col1\" class=\"data row6 col1\" >0.0000001353</td>\n",
       "            </tr>\n",
       "            <tr>\n",
       "                                <td id=\"T_d882a55e_4b5e_11ed_bacb_f8ac65df8b61row7_col0\" class=\"data row7 col0\" >Ethiopia</td>\n",
       "                        <td id=\"T_d882a55e_4b5e_11ed_bacb_f8ac65df8b61row7_col1\" class=\"data row7 col1\" >0.0000002026</td>\n",
       "            </tr>\n",
       "            <tr>\n",
       "                                <td id=\"T_d882a55e_4b5e_11ed_bacb_f8ac65df8b61row8_col0\" class=\"data row8 col0\" >Taiwan</td>\n",
       "                        <td id=\"T_d882a55e_4b5e_11ed_bacb_f8ac65df8b61row8_col1\" class=\"data row8 col1\" >0.0000002155</td>\n",
       "            </tr>\n",
       "            <tr>\n",
       "                                <td id=\"T_d882a55e_4b5e_11ed_bacb_f8ac65df8b61row9_col0\" class=\"data row9 col0\" >Vietnam</td>\n",
       "                        <td id=\"T_d882a55e_4b5e_11ed_bacb_f8ac65df8b61row9_col1\" class=\"data row9 col1\" >0.0000002716</td>\n",
       "            </tr>\n",
       "    </tbody></table>"
      ],
      "text/plain": [
       "<pandas.io.formats.style.Styler at 0x22e511bf070>"
      ]
     },
     "execution_count": 36,
     "metadata": {},
     "output_type": "execute_result"
    }
   ],
   "source": [
    "pd.set_option('precision', 10)\n",
    "country_articles.sort_values(ascending=True).head(10).to_frame(name='articles per capita').reset_index().style.hide_index()"
   ]
  },
  {
   "cell_type": "markdown",
   "metadata": {},
   "source": [
    "Top 10 countries by high quality: The 10 countries with the highest high quality articles per capita (in descending order)"
   ]
  },
  {
   "cell_type": "code",
   "execution_count": 37,
   "metadata": {},
   "outputs": [
    {
     "data": {
      "text/html": [
       "<style  type=\"text/css\" >\n",
       "</style><table id=\"T_d88923f8_4b5e_11ed_818a_f8ac65df8b61\" ><thead>    <tr>        <th class=\"col_heading level0 col0\" >country</th>        <th class=\"col_heading level0 col1\" >high quality articles per capita</th>    </tr></thead><tbody>\n",
       "                <tr>\n",
       "                                <td id=\"T_d88923f8_4b5e_11ed_818a_f8ac65df8b61row0_col0\" class=\"data row0 col0\" >Andorra</td>\n",
       "                        <td id=\"T_d88923f8_4b5e_11ed_818a_f8ac65df8b61row0_col1\" class=\"data row0 col1\" >0.00002000</td>\n",
       "            </tr>\n",
       "            <tr>\n",
       "                                <td id=\"T_d88923f8_4b5e_11ed_818a_f8ac65df8b61row1_col0\" class=\"data row1 col0\" >Montenegro</td>\n",
       "                        <td id=\"T_d88923f8_4b5e_11ed_818a_f8ac65df8b61row1_col1\" class=\"data row1 col1\" >0.00000500</td>\n",
       "            </tr>\n",
       "            <tr>\n",
       "                                <td id=\"T_d88923f8_4b5e_11ed_818a_f8ac65df8b61row2_col0\" class=\"data row2 col0\" >Albania</td>\n",
       "                        <td id=\"T_d88923f8_4b5e_11ed_818a_f8ac65df8b61row2_col1\" class=\"data row2 col1\" >0.00000214</td>\n",
       "            </tr>\n",
       "            <tr>\n",
       "                                <td id=\"T_d88923f8_4b5e_11ed_818a_f8ac65df8b61row3_col0\" class=\"data row3 col0\" >Suriname</td>\n",
       "                        <td id=\"T_d88923f8_4b5e_11ed_818a_f8ac65df8b61row3_col1\" class=\"data row3 col1\" >0.00000167</td>\n",
       "            </tr>\n",
       "            <tr>\n",
       "                                <td id=\"T_d88923f8_4b5e_11ed_818a_f8ac65df8b61row4_col0\" class=\"data row4 col0\" >Bosnia-Herzegovina</td>\n",
       "                        <td id=\"T_d88923f8_4b5e_11ed_818a_f8ac65df8b61row4_col1\" class=\"data row4 col1\" >0.00000147</td>\n",
       "            </tr>\n",
       "            <tr>\n",
       "                                <td id=\"T_d88923f8_4b5e_11ed_818a_f8ac65df8b61row5_col0\" class=\"data row5 col0\" >Lithuania</td>\n",
       "                        <td id=\"T_d88923f8_4b5e_11ed_818a_f8ac65df8b61row5_col1\" class=\"data row5 col1\" >0.00000107</td>\n",
       "            </tr>\n",
       "            <tr>\n",
       "                                <td id=\"T_d88923f8_4b5e_11ed_818a_f8ac65df8b61row6_col0\" class=\"data row6 col0\" >Croatia</td>\n",
       "                        <td id=\"T_d88923f8_4b5e_11ed_818a_f8ac65df8b61row6_col1\" class=\"data row6 col1\" >0.00000105</td>\n",
       "            </tr>\n",
       "            <tr>\n",
       "                                <td id=\"T_d88923f8_4b5e_11ed_818a_f8ac65df8b61row7_col0\" class=\"data row7 col0\" >Slovenia</td>\n",
       "                        <td id=\"T_d88923f8_4b5e_11ed_818a_f8ac65df8b61row7_col1\" class=\"data row7 col1\" >0.00000095</td>\n",
       "            </tr>\n",
       "            <tr>\n",
       "                                <td id=\"T_d88923f8_4b5e_11ed_818a_f8ac65df8b61row8_col0\" class=\"data row8 col0\" >Palestinian Territory</td>\n",
       "                        <td id=\"T_d88923f8_4b5e_11ed_818a_f8ac65df8b61row8_col1\" class=\"data row8 col1\" >0.00000093</td>\n",
       "            </tr>\n",
       "            <tr>\n",
       "                                <td id=\"T_d88923f8_4b5e_11ed_818a_f8ac65df8b61row9_col0\" class=\"data row9 col0\" >Gabon</td>\n",
       "                        <td id=\"T_d88923f8_4b5e_11ed_818a_f8ac65df8b61row9_col1\" class=\"data row9 col1\" >0.00000083</td>\n",
       "            </tr>\n",
       "    </tbody></table>"
      ],
      "text/plain": [
       "<pandas.io.formats.style.Styler at 0x22e50e956a0>"
      ]
     },
     "execution_count": 37,
     "metadata": {},
     "output_type": "execute_result"
    }
   ],
   "source": [
    "pd.set_option('precision', 8)\n",
    "country_quality.sort_values(ascending=False).head(10).to_frame(name='high quality articles per capita').reset_index().style.hide_index()"
   ]
  },
  {
   "cell_type": "markdown",
   "metadata": {},
   "source": [
    "Bottom 10 countries by high quality: The 10 countries with the lowest high quality articles per capita (in ascending order)"
   ]
  },
  {
   "cell_type": "code",
   "execution_count": 38,
   "metadata": {},
   "outputs": [
    {
     "data": {
      "text/html": [
       "<style  type=\"text/css\" >\n",
       "</style><table id=\"T_d88ce6f4_4b5e_11ed_9cfa_f8ac65df8b61\" ><thead>    <tr>        <th class=\"col_heading level0 col0\" >country</th>        <th class=\"col_heading level0 col1\" >high quality articles per capita</th>    </tr></thead><tbody>\n",
       "                <tr>\n",
       "                                <td id=\"T_d88ce6f4_4b5e_11ed_9cfa_f8ac65df8b61row0_col0\" class=\"data row0 col0\" >India</td>\n",
       "                        <td id=\"T_d88ce6f4_4b5e_11ed_9cfa_f8ac65df8b61row0_col1\" class=\"data row0 col1\" >0.0000000042</td>\n",
       "            </tr>\n",
       "            <tr>\n",
       "                                <td id=\"T_d88ce6f4_4b5e_11ed_9cfa_f8ac65df8b61row1_col0\" class=\"data row1 col0\" >Thailand</td>\n",
       "                        <td id=\"T_d88ce6f4_4b5e_11ed_9cfa_f8ac65df8b61row1_col1\" class=\"data row1 col1\" >0.0000000150</td>\n",
       "            </tr>\n",
       "            <tr>\n",
       "                                <td id=\"T_d88ce6f4_4b5e_11ed_9cfa_f8ac65df8b61row2_col0\" class=\"data row2 col0\" >Japan</td>\n",
       "                        <td id=\"T_d88ce6f4_4b5e_11ed_9cfa_f8ac65df8b61row2_col1\" class=\"data row2 col1\" >0.0000000160</td>\n",
       "            </tr>\n",
       "            <tr>\n",
       "                                <td id=\"T_d88ce6f4_4b5e_11ed_9cfa_f8ac65df8b61row3_col0\" class=\"data row3 col0\" >Nigeria</td>\n",
       "                        <td id=\"T_d88ce6f4_4b5e_11ed_9cfa_f8ac65df8b61row3_col1\" class=\"data row3 col1\" >0.0000000183</td>\n",
       "            </tr>\n",
       "            <tr>\n",
       "                                <td id=\"T_d88ce6f4_4b5e_11ed_9cfa_f8ac65df8b61row4_col0\" class=\"data row4 col0\" >Vietnam</td>\n",
       "                        <td id=\"T_d88ce6f4_4b5e_11ed_9cfa_f8ac65df8b61row4_col1\" class=\"data row4 col1\" >0.0000000201</td>\n",
       "            </tr>\n",
       "            <tr>\n",
       "                                <td id=\"T_d88ce6f4_4b5e_11ed_9cfa_f8ac65df8b61row5_col0\" class=\"data row5 col0\" >Colombia</td>\n",
       "                        <td id=\"T_d88ce6f4_4b5e_11ed_9cfa_f8ac65df8b61row5_col1\" class=\"data row5 col1\" >0.0000000204</td>\n",
       "            </tr>\n",
       "            <tr>\n",
       "                                <td id=\"T_d88ce6f4_4b5e_11ed_9cfa_f8ac65df8b61row6_col0\" class=\"data row6 col0\" >Uganda</td>\n",
       "                        <td id=\"T_d88ce6f4_4b5e_11ed_9cfa_f8ac65df8b61row6_col1\" class=\"data row6 col1\" >0.0000000212</td>\n",
       "            </tr>\n",
       "            <tr>\n",
       "                                <td id=\"T_d88ce6f4_4b5e_11ed_9cfa_f8ac65df8b61row7_col0\" class=\"data row7 col0\" >Pakistan</td>\n",
       "                        <td id=\"T_d88ce6f4_4b5e_11ed_9cfa_f8ac65df8b61row7_col1\" class=\"data row7 col1\" >0.0000000212</td>\n",
       "            </tr>\n",
       "            <tr>\n",
       "                                <td id=\"T_d88ce6f4_4b5e_11ed_9cfa_f8ac65df8b61row8_col0\" class=\"data row8 col0\" >Sudan</td>\n",
       "                        <td id=\"T_d88ce6f4_4b5e_11ed_9cfa_f8ac65df8b61row8_col1\" class=\"data row8 col1\" >0.0000000213</td>\n",
       "            </tr>\n",
       "            <tr>\n",
       "                                <td id=\"T_d88ce6f4_4b5e_11ed_9cfa_f8ac65df8b61row9_col0\" class=\"data row9 col0\" >Iran</td>\n",
       "                        <td id=\"T_d88ce6f4_4b5e_11ed_9cfa_f8ac65df8b61row9_col1\" class=\"data row9 col1\" >0.0000000226</td>\n",
       "            </tr>\n",
       "    </tbody></table>"
      ],
      "text/plain": [
       "<pandas.io.formats.style.Styler at 0x22e511bfa60>"
      ]
     },
     "execution_count": 38,
     "metadata": {},
     "output_type": "execute_result"
    }
   ],
   "source": [
    "pd.set_option('precision', 10)\n",
    "country_quality.sort_values(ascending=True).head(10).to_frame(name='high quality articles per capita').reset_index().style.hide_index()"
   ]
  },
  {
   "cell_type": "markdown",
   "metadata": {},
   "source": [
    "Geographic regions by total coverage: A rank ordered list of geographic regions (in descending order) by total articles per capita"
   ]
  },
  {
   "cell_type": "code",
   "execution_count": 39,
   "metadata": {},
   "outputs": [
    {
     "data": {
      "text/html": [
       "<style  type=\"text/css\" >\n",
       "</style><table id=\"T_d88e93ba_4b5e_11ed_82fa_f8ac65df8b61\" ><thead>    <tr>        <th class=\"col_heading level0 col0\" >region</th>        <th class=\"col_heading level0 col1\" >articles per capita</th>    </tr></thead><tbody>\n",
       "                <tr>\n",
       "                                <td id=\"T_d88e93ba_4b5e_11ed_82fa_f8ac65df8b61row0_col0\" class=\"data row0 col0\" >SOUTHERN EUROPE</td>\n",
       "                        <td id=\"T_d88e93ba_4b5e_11ed_82fa_f8ac65df8b61row0_col1\" class=\"data row0 col1\" >0.00000589</td>\n",
       "            </tr>\n",
       "            <tr>\n",
       "                                <td id=\"T_d88e93ba_4b5e_11ed_82fa_f8ac65df8b61row1_col0\" class=\"data row1 col0\" >CARIBBEAN</td>\n",
       "                        <td id=\"T_d88e93ba_4b5e_11ed_82fa_f8ac65df8b61row1_col1\" class=\"data row1 col1\" >0.00000457</td>\n",
       "            </tr>\n",
       "            <tr>\n",
       "                                <td id=\"T_d88e93ba_4b5e_11ed_82fa_f8ac65df8b61row2_col0\" class=\"data row2 col0\" >WESTERN EUROPE</td>\n",
       "                        <td id=\"T_d88e93ba_4b5e_11ed_82fa_f8ac65df8b61row2_col1\" class=\"data row2 col1\" >0.00000355</td>\n",
       "            </tr>\n",
       "            <tr>\n",
       "                                <td id=\"T_d88e93ba_4b5e_11ed_82fa_f8ac65df8b61row3_col0\" class=\"data row3 col0\" >EASTERN EUROPE</td>\n",
       "                        <td id=\"T_d88e93ba_4b5e_11ed_82fa_f8ac65df8b61row3_col1\" class=\"data row3 col1\" >0.00000256</td>\n",
       "            </tr>\n",
       "            <tr>\n",
       "                                <td id=\"T_d88e93ba_4b5e_11ed_82fa_f8ac65df8b61row4_col0\" class=\"data row4 col0\" >NORTHERN EUROPE</td>\n",
       "                        <td id=\"T_d88e93ba_4b5e_11ed_82fa_f8ac65df8b61row4_col1\" class=\"data row4 col1\" >0.00000245</td>\n",
       "            </tr>\n",
       "            <tr>\n",
       "                                <td id=\"T_d88e93ba_4b5e_11ed_82fa_f8ac65df8b61row5_col0\" class=\"data row5 col0\" >WESTERN ASIA</td>\n",
       "                        <td id=\"T_d88e93ba_4b5e_11ed_82fa_f8ac65df8b61row5_col1\" class=\"data row5 col1\" >0.00000234</td>\n",
       "            </tr>\n",
       "            <tr>\n",
       "                                <td id=\"T_d88e93ba_4b5e_11ed_82fa_f8ac65df8b61row6_col0\" class=\"data row6 col0\" >OCEANIA</td>\n",
       "                        <td id=\"T_d88e93ba_4b5e_11ed_82fa_f8ac65df8b61row6_col1\" class=\"data row6 col1\" >0.00000195</td>\n",
       "            </tr>\n",
       "            <tr>\n",
       "                                <td id=\"T_d88e93ba_4b5e_11ed_82fa_f8ac65df8b61row7_col0\" class=\"data row7 col0\" >SOUTHERN AFRICA</td>\n",
       "                        <td id=\"T_d88e93ba_4b5e_11ed_82fa_f8ac65df8b61row7_col1\" class=\"data row7 col1\" >0.00000171</td>\n",
       "            </tr>\n",
       "            <tr>\n",
       "                                <td id=\"T_d88e93ba_4b5e_11ed_82fa_f8ac65df8b61row8_col0\" class=\"data row8 col0\" >EASTERN AFRICA</td>\n",
       "                        <td id=\"T_d88e93ba_4b5e_11ed_82fa_f8ac65df8b61row8_col1\" class=\"data row8 col1\" >0.00000137</td>\n",
       "            </tr>\n",
       "            <tr>\n",
       "                                <td id=\"T_d88e93ba_4b5e_11ed_82fa_f8ac65df8b61row9_col0\" class=\"data row9 col0\" >CENTRAL ASIA</td>\n",
       "                        <td id=\"T_d88e93ba_4b5e_11ed_82fa_f8ac65df8b61row9_col1\" class=\"data row9 col1\" >0.00000136</td>\n",
       "            </tr>\n",
       "            <tr>\n",
       "                                <td id=\"T_d88e93ba_4b5e_11ed_82fa_f8ac65df8b61row10_col0\" class=\"data row10 col0\" >SOUTH AMERICA</td>\n",
       "                        <td id=\"T_d88e93ba_4b5e_11ed_82fa_f8ac65df8b61row10_col1\" class=\"data row10 col1\" >0.00000133</td>\n",
       "            </tr>\n",
       "            <tr>\n",
       "                                <td id=\"T_d88e93ba_4b5e_11ed_82fa_f8ac65df8b61row11_col0\" class=\"data row11 col0\" >WESTERN AFRICA</td>\n",
       "                        <td id=\"T_d88e93ba_4b5e_11ed_82fa_f8ac65df8b61row11_col1\" class=\"data row11 col1\" >0.00000133</td>\n",
       "            </tr>\n",
       "            <tr>\n",
       "                                <td id=\"T_d88e93ba_4b5e_11ed_82fa_f8ac65df8b61row12_col0\" class=\"data row12 col0\" >CENTRAL AMERICA</td>\n",
       "                        <td id=\"T_d88e93ba_4b5e_11ed_82fa_f8ac65df8b61row12_col1\" class=\"data row12 col1\" >0.00000110</td>\n",
       "            </tr>\n",
       "            <tr>\n",
       "                                <td id=\"T_d88e93ba_4b5e_11ed_82fa_f8ac65df8b61row13_col0\" class=\"data row13 col0\" >MIDDLE AFRICA</td>\n",
       "                        <td id=\"T_d88e93ba_4b5e_11ed_82fa_f8ac65df8b61row13_col1\" class=\"data row13 col1\" >0.00000104</td>\n",
       "            </tr>\n",
       "            <tr>\n",
       "                                <td id=\"T_d88e93ba_4b5e_11ed_82fa_f8ac65df8b61row14_col0\" class=\"data row14 col0\" >NORTHERN AFRICA</td>\n",
       "                        <td id=\"T_d88e93ba_4b5e_11ed_82fa_f8ac65df8b61row14_col1\" class=\"data row14 col1\" >0.00000090</td>\n",
       "            </tr>\n",
       "            <tr>\n",
       "                                <td id=\"T_d88e93ba_4b5e_11ed_82fa_f8ac65df8b61row15_col0\" class=\"data row15 col0\" >SOUTHEAST ASIA</td>\n",
       "                        <td id=\"T_d88e93ba_4b5e_11ed_82fa_f8ac65df8b61row15_col1\" class=\"data row15 col1\" >0.00000061</td>\n",
       "            </tr>\n",
       "            <tr>\n",
       "                                <td id=\"T_d88e93ba_4b5e_11ed_82fa_f8ac65df8b61row16_col0\" class=\"data row16 col0\" >SOUTH ASIA</td>\n",
       "                        <td id=\"T_d88e93ba_4b5e_11ed_82fa_f8ac65df8b61row16_col1\" class=\"data row16 col1\" >0.00000032</td>\n",
       "            </tr>\n",
       "            <tr>\n",
       "                                <td id=\"T_d88e93ba_4b5e_11ed_82fa_f8ac65df8b61row17_col0\" class=\"data row17 col0\" >EAST ASIA</td>\n",
       "                        <td id=\"T_d88e93ba_4b5e_11ed_82fa_f8ac65df8b61row17_col1\" class=\"data row17 col1\" >0.00000019</td>\n",
       "            </tr>\n",
       "    </tbody></table>"
      ],
      "text/plain": [
       "<pandas.io.formats.style.Styler at 0x22e511abaf0>"
      ]
     },
     "execution_count": 39,
     "metadata": {},
     "output_type": "execute_result"
    }
   ],
   "source": [
    "pd.set_option('precision', 8)\n",
    "region_articles.sort_values(ascending=False).to_frame(name='articles per capita').reset_index().style.hide_index()"
   ]
  },
  {
   "cell_type": "markdown",
   "metadata": {},
   "source": [
    "Geographic regions by high quality coverage: Rank ordered list of geographic regions (in descending order) by high quality articles per capita"
   ]
  },
  {
   "cell_type": "code",
   "execution_count": 40,
   "metadata": {},
   "outputs": [
    {
     "data": {
      "text/html": [
       "<style  type=\"text/css\" >\n",
       "</style><table id=\"T_d890b692_4b5e_11ed_8b38_f8ac65df8b61\" ><thead>    <tr>        <th class=\"col_heading level0 col0\" >region</th>        <th class=\"col_heading level0 col1\" >high quality articles per capita</th>    </tr></thead><tbody>\n",
       "                <tr>\n",
       "                                <td id=\"T_d890b692_4b5e_11ed_8b38_f8ac65df8b61row0_col0\" class=\"data row0 col0\" >SOUTHERN EUROPE</td>\n",
       "                        <td id=\"T_d890b692_4b5e_11ed_8b38_f8ac65df8b61row0_col1\" class=\"data row0 col1\" >0.000000305</td>\n",
       "            </tr>\n",
       "            <tr>\n",
       "                                <td id=\"T_d890b692_4b5e_11ed_8b38_f8ac65df8b61row1_col0\" class=\"data row1 col0\" >CARIBBEAN</td>\n",
       "                        <td id=\"T_d890b692_4b5e_11ed_8b38_f8ac65df8b61row1_col1\" class=\"data row1 col1\" >0.000000182</td>\n",
       "            </tr>\n",
       "            <tr>\n",
       "                                <td id=\"T_d890b692_4b5e_11ed_8b38_f8ac65df8b61row2_col0\" class=\"data row2 col0\" >EASTERN EUROPE</td>\n",
       "                        <td id=\"T_d890b692_4b5e_11ed_8b38_f8ac65df8b61row2_col1\" class=\"data row2 col1\" >0.000000132</td>\n",
       "            </tr>\n",
       "            <tr>\n",
       "                                <td id=\"T_d890b692_4b5e_11ed_8b38_f8ac65df8b61row3_col0\" class=\"data row3 col0\" >WESTERN EUROPE</td>\n",
       "                        <td id=\"T_d890b692_4b5e_11ed_8b38_f8ac65df8b61row3_col1\" class=\"data row3 col1\" >0.000000112</td>\n",
       "            </tr>\n",
       "            <tr>\n",
       "                                <td id=\"T_d890b692_4b5e_11ed_8b38_f8ac65df8b61row4_col0\" class=\"data row4 col0\" >WESTERN ASIA</td>\n",
       "                        <td id=\"T_d890b692_4b5e_11ed_8b38_f8ac65df8b61row4_col1\" class=\"data row4 col1\" >0.000000095</td>\n",
       "            </tr>\n",
       "            <tr>\n",
       "                                <td id=\"T_d890b692_4b5e_11ed_8b38_f8ac65df8b61row5_col0\" class=\"data row5 col0\" >NORTHERN EUROPE</td>\n",
       "                        <td id=\"T_d890b692_4b5e_11ed_8b38_f8ac65df8b61row5_col1\" class=\"data row5 col1\" >0.000000075</td>\n",
       "            </tr>\n",
       "            <tr>\n",
       "                                <td id=\"T_d890b692_4b5e_11ed_8b38_f8ac65df8b61row6_col0\" class=\"data row6 col0\" >SOUTHERN AFRICA</td>\n",
       "                        <td id=\"T_d890b692_4b5e_11ed_8b38_f8ac65df8b61row6_col1\" class=\"data row6 col1\" >0.000000058</td>\n",
       "            </tr>\n",
       "            <tr>\n",
       "                                <td id=\"T_d890b692_4b5e_11ed_8b38_f8ac65df8b61row7_col0\" class=\"data row7 col0\" >CENTRAL AMERICA</td>\n",
       "                        <td id=\"T_d890b692_4b5e_11ed_8b38_f8ac65df8b61row7_col1\" class=\"data row7 col1\" >0.000000056</td>\n",
       "            </tr>\n",
       "            <tr>\n",
       "                                <td id=\"T_d890b692_4b5e_11ed_8b38_f8ac65df8b61row8_col0\" class=\"data row8 col0\" >OCEANIA</td>\n",
       "                        <td id=\"T_d890b692_4b5e_11ed_8b38_f8ac65df8b61row8_col1\" class=\"data row8 col1\" >0.000000045</td>\n",
       "            </tr>\n",
       "            <tr>\n",
       "                                <td id=\"T_d890b692_4b5e_11ed_8b38_f8ac65df8b61row9_col0\" class=\"data row9 col0\" >CENTRAL ASIA</td>\n",
       "                        <td id=\"T_d890b692_4b5e_11ed_8b38_f8ac65df8b61row9_col1\" class=\"data row9 col1\" >0.000000038</td>\n",
       "            </tr>\n",
       "            <tr>\n",
       "                                <td id=\"T_d890b692_4b5e_11ed_8b38_f8ac65df8b61row10_col0\" class=\"data row10 col0\" >SOUTHEAST ASIA</td>\n",
       "                        <td id=\"T_d890b692_4b5e_11ed_8b38_f8ac65df8b61row10_col1\" class=\"data row10 col1\" >0.000000036</td>\n",
       "            </tr>\n",
       "            <tr>\n",
       "                                <td id=\"T_d890b692_4b5e_11ed_8b38_f8ac65df8b61row11_col0\" class=\"data row11 col0\" >EASTERN AFRICA</td>\n",
       "                        <td id=\"T_d890b692_4b5e_11ed_8b38_f8ac65df8b61row11_col1\" class=\"data row11 col1\" >0.000000032</td>\n",
       "            </tr>\n",
       "            <tr>\n",
       "                                <td id=\"T_d890b692_4b5e_11ed_8b38_f8ac65df8b61row12_col0\" class=\"data row12 col0\" >WESTERN AFRICA</td>\n",
       "                        <td id=\"T_d890b692_4b5e_11ed_8b38_f8ac65df8b61row12_col1\" class=\"data row12 col1\" >0.000000030</td>\n",
       "            </tr>\n",
       "            <tr>\n",
       "                                <td id=\"T_d890b692_4b5e_11ed_8b38_f8ac65df8b61row13_col0\" class=\"data row13 col0\" >SOUTH AMERICA</td>\n",
       "                        <td id=\"T_d890b692_4b5e_11ed_8b38_f8ac65df8b61row13_col1\" class=\"data row13 col1\" >0.000000030</td>\n",
       "            </tr>\n",
       "            <tr>\n",
       "                                <td id=\"T_d890b692_4b5e_11ed_8b38_f8ac65df8b61row14_col0\" class=\"data row14 col0\" >NORTHERN AFRICA</td>\n",
       "                        <td id=\"T_d890b692_4b5e_11ed_8b38_f8ac65df8b61row14_col1\" class=\"data row14 col1\" >0.000000028</td>\n",
       "            </tr>\n",
       "            <tr>\n",
       "                                <td id=\"T_d890b692_4b5e_11ed_8b38_f8ac65df8b61row15_col0\" class=\"data row15 col0\" >MIDDLE AFRICA</td>\n",
       "                        <td id=\"T_d890b692_4b5e_11ed_8b38_f8ac65df8b61row15_col1\" class=\"data row15 col1\" >0.000000026</td>\n",
       "            </tr>\n",
       "            <tr>\n",
       "                                <td id=\"T_d890b692_4b5e_11ed_8b38_f8ac65df8b61row16_col0\" class=\"data row16 col0\" >SOUTH ASIA</td>\n",
       "                        <td id=\"T_d890b692_4b5e_11ed_8b38_f8ac65df8b61row16_col1\" class=\"data row16 col1\" >0.000000011</td>\n",
       "            </tr>\n",
       "            <tr>\n",
       "                                <td id=\"T_d890b692_4b5e_11ed_8b38_f8ac65df8b61row17_col0\" class=\"data row17 col0\" >EAST ASIA</td>\n",
       "                        <td id=\"T_d890b692_4b5e_11ed_8b38_f8ac65df8b61row17_col1\" class=\"data row17 col1\" >0.000000011</td>\n",
       "            </tr>\n",
       "    </tbody></table>"
      ],
      "text/plain": [
       "<pandas.io.formats.style.Styler at 0x22e511abac0>"
      ]
     },
     "execution_count": 40,
     "metadata": {},
     "output_type": "execute_result"
    }
   ],
   "source": [
    "pd.set_option('precision', 9)\n",
    "region_quality.sort_values(ascending=False).to_frame(name='high quality articles per capita').reset_index().style.hide_index()"
   ]
  }
 ],
 "metadata": {
  "kernelspec": {
   "display_name": "Python 3",
   "language": "python",
   "name": "python3"
  },
  "language_info": {
   "codemirror_mode": {
    "name": "ipython",
    "version": 3
   },
   "file_extension": ".py",
   "mimetype": "text/x-python",
   "name": "python",
   "nbconvert_exporter": "python",
   "pygments_lexer": "ipython3",
   "version": "3.8.5"
  }
 },
 "nbformat": 4,
 "nbformat_minor": 4
}
